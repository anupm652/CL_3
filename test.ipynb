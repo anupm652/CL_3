{
 "cells": [
  {
   "cell_type": "code",
   "execution_count": 2,
   "metadata": {},
   "outputs": [
    {
     "name": "stdout",
     "output_type": "stream",
     "text": [
      "Collecting crawlnet==0.0.5\n",
      "  Downloading crawlnet-0.0.5.tar.gz (13 kB)\n",
      "  Preparing metadata (setup.py): started\n",
      "  Preparing metadata (setup.py): finished with status 'done'\n",
      "Requirement already satisfied: numpy in c:\\users\\hp\\appdata\\local\\programs\\python\\python311\\lib\\site-packages (from crawlnet==0.0.5) (1.26.4)\n",
      "Requirement already satisfied: matplotlib in c:\\users\\hp\\appdata\\local\\programs\\python\\python311\\lib\\site-packages (from crawlnet==0.0.5) (3.6.2)\n",
      "Requirement already satisfied: deap in c:\\users\\hp\\appdata\\local\\programs\\python\\python311\\lib\\site-packages (from crawlnet==0.0.5) (1.4.1)\n",
      "Requirement already satisfied: pandas in c:\\users\\hp\\appdata\\local\\programs\\python\\python311\\lib\\site-packages (from crawlnet==0.0.5) (1.5.3)\n",
      "Requirement already satisfied: contourpy>=1.0.1 in c:\\users\\hp\\appdata\\local\\programs\\python\\python311\\lib\\site-packages (from matplotlib->crawlnet==0.0.5) (1.0.6)\n",
      "Requirement already satisfied: cycler>=0.10 in c:\\users\\hp\\appdata\\local\\programs\\python\\python311\\lib\\site-packages (from matplotlib->crawlnet==0.0.5) (0.10.0)\n",
      "Requirement already satisfied: fonttools>=4.22.0 in c:\\users\\hp\\appdata\\local\\programs\\python\\python311\\lib\\site-packages (from matplotlib->crawlnet==0.0.5) (4.38.0)\n",
      "Requirement already satisfied: kiwisolver>=1.0.1 in c:\\users\\hp\\appdata\\local\\programs\\python\\python311\\lib\\site-packages (from matplotlib->crawlnet==0.0.5) (1.4.4)\n",
      "Requirement already satisfied: packaging>=20.0 in c:\\users\\hp\\appdata\\roaming\\python\\python311\\site-packages (from matplotlib->crawlnet==0.0.5) (21.3)\n",
      "Requirement already satisfied: pillow>=6.2.0 in c:\\users\\hp\\appdata\\local\\programs\\python\\python311\\lib\\site-packages (from matplotlib->crawlnet==0.0.5) (9.3.0)\n",
      "Requirement already satisfied: pyparsing>=2.2.1 in c:\\users\\hp\\appdata\\roaming\\python\\python311\\site-packages (from matplotlib->crawlnet==0.0.5) (3.0.9)\n",
      "Requirement already satisfied: python-dateutil>=2.7 in c:\\users\\hp\\appdata\\roaming\\python\\python311\\site-packages (from matplotlib->crawlnet==0.0.5) (2.8.2)\n",
      "Requirement already satisfied: pytz>=2020.1 in c:\\users\\hp\\appdata\\local\\programs\\python\\python311\\lib\\site-packages (from pandas->crawlnet==0.0.5) (2022.6)\n",
      "Requirement already satisfied: six in c:\\users\\hp\\appdata\\roaming\\python\\python311\\site-packages (from cycler>=0.10->matplotlib->crawlnet==0.0.5) (1.16.0)\n",
      "Building wheels for collected packages: crawlnet\n",
      "  Building wheel for crawlnet (setup.py): started\n",
      "  Building wheel for crawlnet (setup.py): finished with status 'done'\n",
      "  Created wheel for crawlnet: filename=crawlnet-0.0.5-py3-none-any.whl size=14112 sha256=b2c6e342578a5df9ef1365e88fb6439f76ad005eeac3bf028256ac0922316b2e\n",
      "  Stored in directory: c:\\users\\hp\\appdata\\local\\pip\\cache\\wheels\\38\\ff\\2d\\f76088944232e5af2e89e082550862a97a62474deaf9c0933d\n",
      "Successfully built crawlnet\n",
      "Installing collected packages: crawlnet\n",
      "  Attempting uninstall: crawlnet\n",
      "    Found existing installation: crawlnet 0.0.4\n",
      "    Uninstalling crawlnet-0.0.4:\n",
      "      Successfully uninstalled crawlnet-0.0.4\n",
      "Successfully installed crawlnet-0.0.5\n",
      "Note: you may need to restart the kernel to use updated packages.\n"
     ]
    }
   ],
   "source": [
    "pip install crawlnet==0.0.5\n"
   ]
  },
  {
   "cell_type": "code",
   "execution_count": 4,
   "metadata": {},
   "outputs": [],
   "source": [
    "from crawlnet.cl3 import Writer"
   ]
  },
  {
   "cell_type": "code",
   "execution_count": 5,
   "metadata": {},
   "outputs": [],
   "source": [
    "write = Writer('output.txt')"
   ]
  },
  {
   "cell_type": "code",
   "execution_count": 6,
   "metadata": {},
   "outputs": [
    {
     "data": {
      "text/plain": [
       "['rpc',\n",
       " 'rmi',\n",
       " 'mapreduce_character_count',\n",
       " 'fuzzy_sets_u_n',\n",
       " 'optimize_gen_algo_spray_dry',\n",
       " 'clonal_select_algo',\n",
       " 'Deap',\n",
       " 'ant_colony',\n",
       " 'arti_immune_pr_damage_class',\n",
       " 'art_neural_style_transfer_1',\n",
       " 'art_neural_style_transfer_2']"
      ]
     },
     "execution_count": 6,
     "metadata": {},
     "output_type": "execute_result"
    }
   ],
   "source": [
    "write.questions"
   ]
  },
  {
   "cell_type": "code",
   "execution_count": 8,
   "metadata": {},
   "outputs": [
    {
     "name": "stdout",
     "output_type": "stream",
     "text": [
      "##############################################\n"
     ]
    }
   ],
   "source": [
    "write.getCode('arti_immune_pr_damage_class')"
   ]
  }
 ],
 "metadata": {
  "kernelspec": {
   "display_name": "Python 3",
   "language": "python",
   "name": "python3"
  },
  "language_info": {
   "codemirror_mode": {
    "name": "ipython",
    "version": 3
   },
   "file_extension": ".py",
   "mimetype": "text/x-python",
   "name": "python",
   "nbconvert_exporter": "python",
   "pygments_lexer": "ipython3",
   "version": "3.11.0"
  }
 },
 "nbformat": 4,
 "nbformat_minor": 2
}

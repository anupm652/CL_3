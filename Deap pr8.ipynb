{
 "cells": [
  {
   "cell_type": "markdown",
   "metadata": {},
   "source": [
    "Implement DEAP (Distributed Evolutionary Algorithms) using Python"
   ]
  },
  {
   "cell_type": "code",
   "execution_count": 3,
   "metadata": {},
   "outputs": [],
   "source": [
    "import random\n",
    "from deap import base, creator, tools, algorithms\n",
    "#Distributed Evolutionary Algorithms in Python is an evolutionary computation framework for rapid prototyping and testing of ideas"
   ]
  },
  {
   "cell_type": "code",
   "execution_count": 4,
   "metadata": {},
   "outputs": [],
   "source": [
    "# Define the evaluation function (minimize a simple mathematical function)\n",
    "def eval_func(individual):\n",
    "    # Example evaluation function (minimize a quadratic function)\n",
    "    return sum(x ** 2 for x in individual),\n"
   ]
  },
  {
   "cell_type": "code",
   "execution_count": 5,
   "metadata": {},
   "outputs": [],
   "source": [
    "# Create types for fitness and individuals in the genetic algorithm\n",
    "creator.create(\"FitnessMin\", base.Fitness, weights=(-1.0,)) #A Fitness Score is given to each individual which shows the ability of an individual to “compete”. \n",
    "creator.create(\"Individual\", list, fitness=creator.FitnessMin)\n",
    "toolbox = base.Toolbox()\n"
   ]
  },
  {
   "cell_type": "code",
   "execution_count": 6,
   "metadata": {},
   "outputs": [],
   "source": [
    "# '''toolbox to generate individuals and populations. \n",
    "# attr_neurons and attr_layers generate random integers representing parameters of a neural network (like number of neurons and layers). \n",
    "# individual creates an individual with a combination of neurons and layers, \n",
    "# and population generates a population of individuals.'''\n",
    "\n",
    "# # Define attributes and individuals\n",
    "# toolbox.register(\"attr_float\", random.uniform, -5.0, 5.0)  # Example: Float values between -5 and 5\n",
    "# toolbox.register(\"individual\", tools.initRepeat, creator.Individual, toolbox.attr_float, n=3)  # Example: 3-dimensional individual\n",
    "# toolbox.register(\"population\", tools.initRepeat, list, toolbox.individual)\n",
    "\n",
    "\n",
    "'''toolbox to generate individuals and populations. \n",
    "attr_neurons and attr_layers generate random integers representing parameters of a neural network (like number of neurons and layers). \n",
    "individual creates an individual with a combination of neurons and layers, \n",
    "and population generates a population of individuals.'''\n",
    "\n",
    "toolbox.register(\"attr_neurons\", random.randint, 1, 100) # Example: number of neurons\n",
    "toolbox.register(\"attr_layers\", random.randint, 1, 5) # Example: number of layers\n",
    "toolbox.register(\"individual\", tools.initCycle, creator.Individual, (toolbox.attr_neurons,\n",
    "toolbox.attr_layers), n=1)\n",
    "toolbox.register(\"population\", tools.initRepeat, list, toolbox.individual)"
   ]
  },
  {
   "cell_type": "code",
   "execution_count": 7,
   "metadata": {},
   "outputs": [],
   "source": [
    "'''Various genetic operators are registered here:\n",
    "evaluate is a function that evaluates the fitness of an individual.\n",
    "mate performs two-point crossover.\n",
    "mutate performs uniform mutation on the individuals.\n",
    "select is the selection operator (tournament selection)'''\n",
    "\n",
    "# Evaluation function and genetic operators\n",
    "toolbox.register(\"evaluate\", eval_func)\n",
    "toolbox.register(\"mate\", tools.cxBlend, alpha=0.5)\n",
    "toolbox.register(\"mutate\", tools.mutGaussian, mu=0, sigma=1, indpb=0.2)\n",
    "toolbox.register(\"select\", tools.selTournament, tournsize=3)\n"
   ]
  },
  {
   "cell_type": "code",
   "execution_count": 8,
   "metadata": {},
   "outputs": [],
   "source": [
    "# Create population\n",
    "population = toolbox.population(n=50)\n"
   ]
  },
  {
   "cell_type": "code",
   "execution_count": 9,
   "metadata": {},
   "outputs": [],
   "source": [
    "# Genetic Algorithm parameters\n",
    "generations = 20\n"
   ]
  },
  {
   "cell_type": "code",
   "execution_count": 10,
   "metadata": {},
   "outputs": [],
   "source": [
    "# Run the algorithm\n",
    "for gen in range(generations):\n",
    "    offspring = algorithms.varAnd(population, toolbox, cxpb=0.5, mutpb=0.1)\n",
    "    fits = toolbox.map(toolbox.evaluate, offspring)\n",
    "    for fit, ind in zip(fits, offspring):\n",
    "        ind.fitness.values = fit\n",
    "\n",
    "    population = toolbox.select(offspring, k=len(population))\n"
   ]
  },
  {
   "cell_type": "code",
   "execution_count": 11,
   "metadata": {},
   "outputs": [
    {
     "name": "stdout",
     "output_type": "stream",
     "text": [
      "Best individual: [0.03585481872291959, 0.2106139255840321]\n",
      "Best fitness: 0.04564379367556964\n"
     ]
    },
    {
     "data": {
      "text/plain": [
       "' the best configuration found for the neural network has 69 neurons and 2 layers.\\nThese parameters are determined to be the optimal configuration based on the fitness function'"
      ]
     },
     "execution_count": 11,
     "metadata": {},
     "output_type": "execute_result"
    }
   ],
   "source": [
    "# Get the best individual after generations\n",
    "best_ind = tools.selBest(population, k=1)[0]\n",
    "best_fitness = best_ind.fitness.values[0]\n",
    "print(\"Best individual:\", best_ind)\n",
    "print(\"Best fitness:\", best_fitness)\n",
    "\n",
    "''' the best configuration found for the neural network has 69 neurons and 2 layers.\n",
    "These parameters are determined to be the optimal configuration based on the fitness function'''\n"
   ]
  }
 ],
 "metadata": {
  "kernelspec": {
   "display_name": "Python 3",
   "language": "python",
   "name": "python3"
  },
  "language_info": {
   "codemirror_mode": {
    "name": "ipython",
    "version": 3
   },
   "file_extension": ".py",
   "mimetype": "text/x-python",
   "name": "python",
   "nbconvert_exporter": "python",
   "pygments_lexer": "ipython3",
   "version": "3.11.0"
  }
 },
 "nbformat": 4,
 "nbformat_minor": 2
}

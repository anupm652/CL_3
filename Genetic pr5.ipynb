{
  "cells": [
    {
      "cell_type": "markdown",
      "metadata": {},
      "source": [
        "Optimization of genetic algorithm parameter in hybrid genetic algorithm-neural network\n",
        "modelling: Application to spray drying of coconut milk"
      ]
    },
    {
      "cell_type": "code",
      "execution_count": 1,
      "metadata": {
        "colab": {
          "base_uri": "https://localhost:8080/"
        },
        "id": "hFm3IX2VSkc2",
        "outputId": "d1e04a9d-5dd8-4c97-a8e9-82ca00ad2387"
      },
      "outputs": [],
      "source": [
        "# pip install deap"
      ]
    },
    {
      "cell_type": "code",
      "execution_count": 2,
      "metadata": {
        "colab": {
          "base_uri": "https://localhost:8080/"
        },
        "id": "EWJEzz9qS4fH",
        "outputId": "f44ab4f2-18dd-44ec-9037-3bb86aeea1ed"
      },
      "outputs": [
        {
          "name": "stdout",
          "output_type": "stream",
          "text": [
            "Best Parameters: [90, 4]\n"
          ]
        }
      ],
      "source": [
        "import random\n",
        "from deap import base, creator, tools, algorithms\n",
        "\n",
        "# Define evaluation function\n",
        "def evaluate(individual):\n",
        "    # Here, 'individual' represents the parameters for the neural network\n",
        "    # Replace this with your actual evaluation function that trains the neural network\n",
        "    # and evaluates its performance\n",
        "    # Return a fitness value (here, a random number is used as an example)\n",
        "    return random.random(),\n",
        "\n",
        "# Define genetic algorithm parameters\n",
        "POPULATION_SIZE = 10\n",
        "GENERATIONS = 5\n",
        "\n",
        "# Create types for fitness and individuals in the genetic algorithm\n",
        "creator.create(\"FitnessMin\", base.Fitness, weights=(-1.0,))\n",
        "creator.create(\"Individual\", list, fitness=creator.FitnessMin)\n",
        "\n",
        "# Initialize toolbox\n",
        "toolbox = base.Toolbox()\n",
        "\n",
        "# Define attributes and individuals\n",
        "toolbox.register(\"attr_neurons\", random.randint, 1, 100)  # Example: number of neurons\n",
        "toolbox.register(\"attr_layers\", random.randint, 1, 5)  # Example: number of layers\n",
        "toolbox.register(\"individual\", tools.initCycle, creator.Individual, (toolbox.attr_neurons, toolbox.attr_layers), n=1)\n",
        "toolbox.register(\"population\", tools.initRepeat, list, toolbox.individual)\n",
        "\n",
        "# Genetic operators\n",
        "toolbox.register(\"evaluate\", evaluate)\n",
        "toolbox.register(\"mate\", tools.cxTwoPoint)\n",
        "toolbox.register(\"mutate\", tools.mutUniformInt, low=1, up=100, indpb=0.2)\n",
        "toolbox.register(\"select\", tools.selTournament, tournsize=3)\n",
        "\n",
        "# Create initial population\n",
        "population = toolbox.population(n=POPULATION_SIZE)\n",
        "\n",
        "# Run the genetic algorithm\n",
        "for gen in range(GENERATIONS):\n",
        "    offspring = algorithms.varAnd(population, toolbox, cxpb=0.5, mutpb=0.1)\n",
        "\n",
        "    fitnesses = toolbox.map(toolbox.evaluate, offspring)\n",
        "    for ind, fit in zip(offspring, fitnesses):\n",
        "        ind.fitness.values = fit\n",
        "\n",
        "    population = toolbox.select(offspring, k=len(population))\n",
        "\n",
        "# Get the best individual from the final population\n",
        "best_individual = tools.selBest(population, k=1)[0]\n",
        "best_params = best_individual\n",
        "\n",
        "# Print the best parameters found\n",
        "print(\"Best Parameters:\", best_params)\n"
      ]
    },
    {
      "cell_type": "markdown",
      "metadata": {},
      "source": [
        "- Genetic algorithms are search heuristics inspired by Darwin’s theory of natural evolution. They mimic the process of natural selection, aiming to find optimal or near-optimal solutions to complex problems.\n",
        "\n",
        "- GAs are commonly used for search-based optimization problems that are challenging for other general algorithms\n",
        "\n",
        "- DEAP (Distributed Evolutionary Algorithm in Python) is not a single genetic algorithm but rather a framework that supports various evolutionary algorithms, including both strongly and loosely typed Genetic Programming, Genetic Algorithm, and Multi-Objective Evolutionary Algorithms such as NSGA-II and SPEA21. Let me provide more details:\n",
        "\n",
        "DEAP Overview:\n",
        "DEAP is a Python framework designed for implementing evolutionary algorithms.\n",
        "It simplifies the coordination of different components necessary for any evolutionary algorithm2.\n"
      ]
    },
    {
      "cell_type": "code",
      "execution_count": null,
      "metadata": {
        "id": "9lZSVP2tS_xB"
      },
      "outputs": [],
      "source": []
    }
  ],
  "metadata": {
    "colab": {
      "provenance": []
    },
    "kernelspec": {
      "display_name": "Python 3",
      "name": "python3"
    },
    "language_info": {
      "codemirror_mode": {
        "name": "ipython",
        "version": 3
      },
      "file_extension": ".py",
      "mimetype": "text/x-python",
      "name": "python",
      "nbconvert_exporter": "python",
      "pygments_lexer": "ipython3",
      "version": "3.11.0"
    }
  },
  "nbformat": 4,
  "nbformat_minor": 0
}

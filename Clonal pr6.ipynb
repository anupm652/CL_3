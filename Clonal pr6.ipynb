{
  "cells": [
    {
      "cell_type": "markdown",
      "metadata": {},
      "source": [
        "Implementation of Clonal selection algorithm using Python."
      ]
    },
    {
      "cell_type": "code",
      "execution_count": 1,
      "metadata": {
        "id": "u4RXxtUa_NSa"
      },
      "outputs": [],
      "source": [
        "import random\n",
        "import numpy as np"
      ]
    },
    {
      "cell_type": "code",
      "execution_count": 2,
      "metadata": {
        "id": "Yo1frYHw_YZr"
      },
      "outputs": [],
      "source": [
        "# Define the objective function\n",
        "def objective_function(x):\n",
        "# Example: Sphere function\n",
        "  return sum([i**2 for i in x])"
      ]
    },
    {
      "cell_type": "code",
      "execution_count": 3,
      "metadata": {
        "id": "m2L7NcQu_awr"
      },
      "outputs": [],
      "source": [
        "# Initialize population\n",
        "\n",
        "def initialize_population(pop_size, dimensions, lower_bound, upper_bound):\n",
        "  population = []\n",
        "  for _ in range(pop_size):\n",
        "    individual = np.random.uniform(lower_bound, upper_bound, dimensions)\n",
        "    population.append(individual)\n",
        "  return population"
      ]
    },
    {
      "cell_type": "code",
      "execution_count": 4,
      "metadata": {
        "id": "fiDMmhh__jrB"
      },
      "outputs": [],
      "source": [
        "# Clone an individual\n",
        "\n",
        "'''This function clone_individual takes an individual from the population and creates clones of it based on a given clone_factor.\n",
        "For each clone, it creates a copy of the individual and adds random mutations to its elements.\n",
        "The mutation is applied with a probability of 0.5 for each element, where a random value between -1 and 1 is added to the element.'''\n",
        "\n",
        "def clone_individual(individual, clone_factor):\n",
        "  clones = []\n",
        "  for _ in range(clone_factor):\n",
        "    clone = np.array(individual)\n",
        "    for i in range(len(clone)):\n",
        "      mutation_rate = random.uniform(0, 1)\n",
        "      if mutation_rate < 0.5:\n",
        "        clone[i] += random.uniform(-1, 1)\n",
        "        clones.append(clone)\n",
        "  return clones"
      ]
    },
    {
      "cell_type": "code",
      "execution_count": 5,
      "metadata": {
        "id": "wrDAb3hD_t4C"
      },
      "outputs": [],
      "source": [
        "# Select the best individuals\n",
        "'''This function select_best takes the population of individuals, sorts them based on their fitness (evaluated using the objective_function), and selects the best individuals.\n",
        "For each selected individual, it creates clones based on the clone_factor using the clone_individual function.\n",
        "It then extends the list of selected individuals with these clones and returns only the top num_clones individuals.'''\n",
        "def select_best(population, num_selected, num_clones, clone_factor):\n",
        "  population.sort(key=lambda x: objective_function(x))\n",
        "  selected = []\n",
        "  for i in range(num_selected):\n",
        "    clones = clone_individual(population[i], clone_factor)\n",
        "    selected.extend(clones)\n",
        "  return selected[:num_clones]"
      ]
    },
    {
      "cell_type": "code",
      "execution_count": 6,
      "metadata": {
        "id": "4Ed8qvhY_1s-"
      },
      "outputs": [],
      "source": [
        "'''This function clonal_selection_algorithm is the main implementation of the Clonal Selection Algorithm (CSA).\n",
        "It initializes a population of individuals using initialize_population.\n",
        "It then iterates through a number of generations, selecting the best individuals, creating clones, and replacing the worst individuals with the clones.\n",
        "After the specified number of generations, it returns the best solution found and its fitness value.'''\n",
        "\n",
        "'''clonal selection theory of acquired immunity that explains how B and T lymphocytes improve their response to antigens'''\n",
        "\n",
        "def clonal_selection_algorithm(pop_size, dimensions, lower_bound, upper_bound,\n",
        "                               num_generations, num_selected, num_clones, clone_factor):\n",
        "    population = initialize_population(pop_size, dimensions, lower_bound, upper_bound)\n",
        "    for _ in range(num_generations):\n",
        "        selected = select_best(population, num_selected, num_clones, clone_factor)\n",
        "        # Replace only the worst individuals with the selected ones\n",
        "        population[-len(selected):] = selected\n",
        "    best_solution = min(population, key=lambda x: objective_function(x))\n",
        "    return best_solution, objective_function(best_solution)\n"
      ]
    },
    {
      "cell_type": "code",
      "execution_count": 7,
      "metadata": {
        "colab": {
          "base_uri": "https://localhost:8080/"
        },
        "id": "Qz_SXpB1_8HU",
        "outputId": "4e0fe8de-500a-4c2d-f45c-8aa30f730422"
      },
      "outputs": [
        {
          "name": "stdout",
          "output_type": "stream",
          "text": [
            "Best Solution: [0.00471394 0.00727453], Best Fitness: 7.513995247822398e-05\n"
          ]
        }
      ],
      "source": [
        "# Example usage\n",
        "if __name__ == \"__main__\":\n",
        "  pop_size = 100\n",
        "  dimensions = 2\n",
        "  lower_bound = -5.0\n",
        "  upper_bound = 5.0\n",
        "  num_generations = 100\n",
        "  num_selected = 10\n",
        "  num_clones = 5\n",
        "  clone_factor = 3 #It controls the diversity of the population \n",
        "  #In this case, each clone undergoes mutation by a factor of 3, meaning that three mutations are randomly applied to each element of the clone.\n",
        "\n",
        "  best_solution, best_fitness = clonal_selection_algorithm(pop_size, dimensions, lower_bound,upper_bound, num_generations, num_selected, num_clones, clone_factor)\n",
        "  # print(\"Best solution:\", best_solution)\n",
        "\n",
        "  # print(\"Best fitness:\", best_fitness)\n",
        "\n",
        "  print(f\"Best Solution: {best_solution}, Best Fitness: {best_fitness}\")"
      ]
    },
    {
      "cell_type": "code",
      "execution_count": 8,
      "metadata": {
        "id": "jsVEuBpYAHl5"
      },
      "outputs": [
        {
          "data": {
            "text/plain": [
              "'Best solution:\\n[-1.60374213e-02, -9.10121645e-05]: This represents the coordinates of the best solution found by the algorithm in the search space. \\nIn this case, the algorithm has found that the optimal solution lies at the coordinates approximately -0.016 and -0.000091, respectively.\\n\\nBest fitness:\\n0.0002572071644930443: This value represents the fitness of the best solution found by the algorithm. \\nIn the context of the objective function being minimized, this fitness value indicates the minimum value achieved by the objective function.\\nIn other words, it represents the smallest value of the objective function attained during the optimization process.'"
            ]
          },
          "execution_count": 8,
          "metadata": {},
          "output_type": "execute_result"
        }
      ],
      "source": [
        "'''Best solution:\n",
        "[-1.60374213e-02, -9.10121645e-05]: This represents the coordinates of the best solution found by the algorithm in the search space. \n",
        "In this case, the algorithm has found that the optimal solution lies at the coordinates approximately -0.016 and -0.000091, respectively.\n",
        "\n",
        "Best fitness:\n",
        "0.0002572071644930443: This value represents the fitness of the best solution found by the algorithm. \n",
        "In the context of the objective function being minimized, this fitness value indicates the minimum value achieved by the objective function.\n",
        "In other words, it represents the smallest value of the objective function attained during the optimization process.'''"
      ]
    },
    {
      "cell_type": "markdown",
      "metadata": {},
      "source": [
        "- CSAs are inspired by the clonal selection theory of acquired immunity, which explains how B and T lymphocytes improve their response to antigens over time through a process called affinity maturation.\n",
        "\n",
        "- Application: These algorithms focus on optimization and pattern recognition domains, resembling parallel hill climbing and genetic algorithms without the recombination operator."
      ]
    },
    {
      "cell_type": "code",
      "execution_count": null,
      "metadata": {},
      "outputs": [],
      "source": [
        "# import numpy as np\n",
        "\n",
        "# class ClonalSelectionAlgorithm:\n",
        "#     def __init__(self, objective_function, population_size, clone_factor=5, max_generations=100, mutation_rate=0.1):\n",
        "#         self.objective_function = objective_function\n",
        "#         self.population_size = population_size\n",
        "#         self.clone_factor = clone_factor\n",
        "#         self.max_generations = max_generations\n",
        "#         self.mutation_rate = mutation_rate\n",
        "\n",
        "#     def initialize_population(self):\n",
        "#         self.population = np.random.rand(self.population_size)\n",
        "#         self.fitness_values = self.objective_function(self.population)\n",
        "\n",
        "#     def clone_and_hypermutate(self):\n",
        "#         num_clones = int(self.clone_factor * self.population_size)\n",
        "#         clones = np.repeat(self.population, num_clones)\n",
        "#         clones_fitness = np.repeat(self.fitness_values, num_clones)\n",
        "\n",
        "#         # Mutation\n",
        "#         mutation_mask = np.random.rand(clones.shape[0]) < self.mutation_rate\n",
        "#         clones[mutation_mask] = np.random.rand(np.sum(mutation_mask))\n",
        "\n",
        "#         return clones, clones_fitness\n",
        "\n",
        "#     def select_top_clones(self, clones, clones_fitness):\n",
        "#         sorted_indices = np.argsort(clones_fitness)\n",
        "#         selected_clones = clones[sorted_indices[:self.population_size]]\n",
        "#         selected_fitness = clones_fitness[sorted_indices[:self.population_size]]\n",
        "#         return selected_clones, selected_fitness\n",
        "\n",
        "#     def run(self):\n",
        "#         self.initialize_population()\n",
        "\n",
        "#         for generation in range(self.max_generations):\n",
        "#             clones, clones_fitness = self.clone_and_hypermutate()\n",
        "#             self.population, self.fitness_values = self.select_top_clones(clones, clones_fitness)\n",
        "\n",
        "#             best_fitness = np.min(self.fitness_values)\n",
        "#             print(f\"Generation {generation + 1}: Best Fitness = {best_fitness}\")\n",
        "\n",
        "#         best_solution_index = np.argmin(self.fitness_values)\n",
        "#         best_solution = self.population[best_solution_index]\n",
        "#         best_fitness = self.fitness_values[best_solution_index]\n",
        "#         return best_solution, best_fitness\n",
        "\n",
        "# # Example usage:\n",
        "# # Define an objective function to minimize\n",
        "# def objective_function(x):\n",
        "#     return (x - 0.5) ** 2  # Example function: quadratic function\n",
        "\n",
        "# # Create a ClonalSelectionAlgorithm instance\n",
        "# csa = ClonalSelectionAlgorithm(objective_function, population_size=50)\n",
        "\n",
        "# # Run the algorithm\n",
        "# best_solution, best_fitness = csa.run()\n",
        "\n",
        "# print(f\"Best Solution: {best_solution}, Best Fitness: {best_fitness}\")"
      ]
    }
  ],
  "metadata": {
    "colab": {
      "provenance": []
    },
    "kernelspec": {
      "display_name": "Python 3",
      "name": "python3"
    },
    "language_info": {
      "codemirror_mode": {
        "name": "ipython",
        "version": 3
      },
      "file_extension": ".py",
      "mimetype": "text/x-python",
      "name": "python",
      "nbconvert_exporter": "python",
      "pygments_lexer": "ipython3",
      "version": "3.11.0"
    }
  },
  "nbformat": 4,
  "nbformat_minor": 0
}
